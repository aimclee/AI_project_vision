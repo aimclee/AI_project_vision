{
  "cells": [
    {
      "cell_type": "markdown",
      "metadata": {
        "id": "GJBs_flRovLc"
      },
      "source": [
        "## <strong>VGG 16을 활용한 trash 분류 (Transfer Learning 활용)</strong>\n",
        "\n",
        "- kaggle dataset(https://www.kaggle.com/datasets/asdasdasasdas/garbage-classification)을 활용한 trash 분류 모델"
      ]
    },
    {
      "cell_type": "markdown",
      "metadata": {
        "id": "1yoe-K38GQ4b"
      },
      "source": [
        "## 순서"
      ]
    },
    {
      "cell_type": "markdown",
      "metadata": {
        "id": "Bc6iTV8DGPop"
      },
      "source": [
        "1. **import**: 필요한 모듈 import\n",
        "2. **전처리**: 학습에 필요한 데이터 전처리를 수행합니다.\n",
        "3. **모델링(model)**: 모델을 정의합니다.\n",
        "4. **컴파일(compile)**: 모델을 생성합니다.\n",
        "5. **학습 (fit)**: 모델을 학습시킵니다."
      ]
    },
    {
      "cell_type": "markdown",
      "metadata": {
        "id": "2fhs6GZ4qFMx"
      },
      "source": [
        "### 1) **import**: 필요한 모듈 import"
      ]
    },
    {
      "cell_type": "code",
      "execution_count": 1,
      "metadata": {
        "id": "-gE-Ez1qtyIA"
      },
      "outputs": [],
      "source": [
        "import tensorflow as tf\n",
        "\n",
        "from tensorflow.keras.preprocessing.image import ImageDataGenerator\n",
        "from tensorflow.keras.layers import Conv2D, GlobalAveragePooling2D, Flatten, Dropout, Dense, BatchNormalization\n",
        "from tensorflow.keras.models import Sequential\n",
        "from tensorflow.keras.callbacks import ModelCheckpoint\n",
        "from tensorflow.keras.applications import VGG16\n",
        "from tensorflow.keras.optimizers import Adam\n",
        "from tensorflow.keras.losses import CategoricalCrossentropy"
      ]
    },
    {
      "cell_type": "markdown",
      "source": [
        "### 2) **전처리**: 학습에 필요한 데이터 전처리를 수행합니다."
      ],
      "metadata": {
        "id": "0X5ooIOZcI_G"
      }
    },
    {
      "cell_type": "code",
      "source": [
        "from google.colab import drive\n",
        "drive.mount('/content/gdrive')\n",
        "\n",
        "path='/content/gdrive/My Drive/AI/dataset/garbage-classification/Garbage-classification/Garbage-classification'\n",
        "\n",
        "train_datagen = ImageDataGenerator(\n",
        "    preprocessing_function=tf.keras.applications.vgg16.preprocess_input,\n",
        "    rotation_range=30,\n",
        "    rescale=1./255,\n",
        "    shear_range=0.2,\n",
        "    zoom_range=0.2,\n",
        "    width_shift_range=0.2,\n",
        "    height_shift_range=0.2,\n",
        "    validation_split=0.1,\n",
        "    horizontal_flip = True,\n",
        "    fill_mode = 'nearest',\n",
        ")\n",
        "\n",
        "train_generator = train_datagen.flow_from_directory(\n",
        "    directory=path, \n",
        "    target_size=(224,224), \n",
        "    classes=['cardboard', 'glass', 'metal','paper', 'plastic', 'trash'], \n",
        "    batch_size=16, \n",
        "    subset='training'\n",
        ")\n",
        "\n",
        "valid_datagen = ImageDataGenerator(\n",
        "    preprocessing_function=tf.keras.applications.vgg16.preprocess_input,\n",
        "    validation_split=0.1,\n",
        "    rescale=1./255,\n",
        ")\n",
        "\n",
        "\n",
        "validation_generator = valid_datagen.flow_from_directory(\n",
        "    directory=path, \n",
        "    target_size=(224,224), \n",
        "    classes=['cardboard', 'glass', 'metal','paper', 'plastic', 'trash'], \n",
        "    batch_size=16, \n",
        "    subset='validation'\n",
        ")"
      ],
      "metadata": {
        "colab": {
          "base_uri": "https://localhost:8080/"
        },
        "id": "anYEj_Spc8rC",
        "outputId": "92d4edc4-053f-4cca-82a1-be19a825c9df"
      },
      "execution_count": 7,
      "outputs": [
        {
          "output_type": "stream",
          "name": "stdout",
          "text": [
            "Drive already mounted at /content/gdrive; to attempt to forcibly remount, call drive.mount(\"/content/gdrive\", force_remount=True).\n",
            "Found 2276 images belonging to 6 classes.\n",
            "Found 251 images belonging to 6 classes.\n"
          ]
        }
      ]
    },
    {
      "cell_type": "markdown",
      "source": [
        "### 3) **모델링(model)**: 모델을 정의합니다."
      ],
      "metadata": {
        "id": "w7oje5rJuYfM"
      }
    },
    {
      "cell_type": "code",
      "source": [
        "transfer_model = VGG16(weights='imagenet', include_top = False, input_shape=(224,224,3))\n",
        "transfer_model.trainable = False\n",
        "\n",
        "model = Sequential([\n",
        "  transfer_model,\n",
        "  GlobalAveragePooling2D(),\n",
        "  Dense(512, activation='relu'),\n",
        "  BatchNormalization(),\n",
        "  Dropout(0.3),\n",
        "  Dense(128, activation='relu'),\n",
        "  BatchNormalization(),\n",
        "  Dropout(0.3),\n",
        "  Dense(6, activation='softmax')\n",
        "])\n",
        "\n",
        "model.summary()"
      ],
      "metadata": {
        "colab": {
          "base_uri": "https://localhost:8080/"
        },
        "id": "oaHkiKihuVsu",
        "outputId": "369dd9c6-115e-4b31-9208-e1bf042c6a1e"
      },
      "execution_count": 8,
      "outputs": [
        {
          "output_type": "stream",
          "name": "stdout",
          "text": [
            "Model: \"sequential_1\"\n",
            "_________________________________________________________________\n",
            " Layer (type)                Output Shape              Param #   \n",
            "=================================================================\n",
            " vgg16 (Functional)          (None, 7, 7, 512)         14714688  \n",
            "                                                                 \n",
            " global_average_pooling2d_1   (None, 512)              0         \n",
            " (GlobalAveragePooling2D)                                        \n",
            "                                                                 \n",
            " dense_3 (Dense)             (None, 512)               262656    \n",
            "                                                                 \n",
            " batch_normalization_2 (Batc  (None, 512)              2048      \n",
            " hNormalization)                                                 \n",
            "                                                                 \n",
            " dropout_2 (Dropout)         (None, 512)               0         \n",
            "                                                                 \n",
            " dense_4 (Dense)             (None, 128)               65664     \n",
            "                                                                 \n",
            " batch_normalization_3 (Batc  (None, 128)              512       \n",
            " hNormalization)                                                 \n",
            "                                                                 \n",
            " dropout_3 (Dropout)         (None, 128)               0         \n",
            "                                                                 \n",
            " dense_5 (Dense)             (None, 6)                 774       \n",
            "                                                                 \n",
            "=================================================================\n",
            "Total params: 15,046,342\n",
            "Trainable params: 330,374\n",
            "Non-trainable params: 14,715,968\n",
            "_________________________________________________________________\n"
          ]
        }
      ]
    },
    {
      "cell_type": "markdown",
      "source": [
        "### 4) **컴파일(compile)**: 모델을 생성합니다."
      ],
      "metadata": {
        "id": "8yOTX7a0wiQr"
      }
    },
    {
      "cell_type": "code",
      "source": [
        "model.compile(optimizer=tf.keras.optimizers.Adam(learning_rate=0.0001), loss='categorical_crossentropy', metrics=['acc'])\n",
        "\n",
        "checkpoint_path = \"garbage-classifiction-checkpoint.ckpt\"\n",
        "checkpoint = ModelCheckpoint(filepath=checkpoint_path, \n",
        "                             save_weights_only=True, \n",
        "                             save_best_only=True, \n",
        "                             monitor='val_loss', \n",
        "                             verbose=1)"
      ],
      "metadata": {
        "id": "JknYO2VgwutL"
      },
      "execution_count": 9,
      "outputs": []
    },
    {
      "cell_type": "markdown",
      "source": [
        "### 5) **학습 (fit)**: 모델을 학습시킵니다."
      ],
      "metadata": {
        "id": "_DU9Qiikxsft"
      }
    },
    {
      "cell_type": "code",
      "source": [
        "model.fit(train_generator,\n",
        "          validation_data=(validation_generator),\n",
        "          epochs=30,\n",
        "          callbacks=[checkpoint]\n",
        "          )\n",
        "\n",
        "model.load_weights(checkpoint_path)\n",
        "model.save('garbage-classification-model1(val_split=0.1).h5')"
      ],
      "metadata": {
        "colab": {
          "base_uri": "https://localhost:8080/"
        },
        "id": "yTwnCNY8xw4c",
        "outputId": "91f61db9-f39b-49c9-c715-f1fee88fd746"
      },
      "execution_count": 10,
      "outputs": [
        {
          "output_type": "stream",
          "name": "stdout",
          "text": [
            "Epoch 1/30\n",
            "143/143 [==============================] - ETA: 0s - loss: 2.0110 - acc: 0.3106\n",
            "Epoch 1: val_loss improved from inf to 1.60834, saving model to garbage-classifiction-checkpoint.ckpt\n",
            "143/143 [==============================] - 464s 3s/step - loss: 2.0110 - acc: 0.3106 - val_loss: 1.6083 - val_acc: 0.3347\n",
            "Epoch 2/30\n",
            "143/143 [==============================] - ETA: 0s - loss: 1.4839 - acc: 0.4521\n",
            "Epoch 2: val_loss improved from 1.60834 to 1.25787, saving model to garbage-classifiction-checkpoint.ckpt\n",
            "143/143 [==============================] - 41s 284ms/step - loss: 1.4839 - acc: 0.4521 - val_loss: 1.2579 - val_acc: 0.5458\n",
            "Epoch 3/30\n",
            "143/143 [==============================] - ETA: 0s - loss: 1.3038 - acc: 0.5299\n",
            "Epoch 3: val_loss improved from 1.25787 to 1.00946, saving model to garbage-classifiction-checkpoint.ckpt\n",
            "143/143 [==============================] - 41s 283ms/step - loss: 1.3038 - acc: 0.5299 - val_loss: 1.0095 - val_acc: 0.6096\n",
            "Epoch 4/30\n",
            "143/143 [==============================] - ETA: 0s - loss: 1.2406 - acc: 0.5554\n",
            "Epoch 4: val_loss improved from 1.00946 to 0.84105, saving model to garbage-classifiction-checkpoint.ckpt\n",
            "143/143 [==============================] - 42s 291ms/step - loss: 1.2406 - acc: 0.5554 - val_loss: 0.8410 - val_acc: 0.7012\n",
            "Epoch 5/30\n",
            "143/143 [==============================] - ETA: 0s - loss: 1.1379 - acc: 0.5826\n",
            "Epoch 5: val_loss improved from 0.84105 to 0.72845, saving model to garbage-classifiction-checkpoint.ckpt\n",
            "143/143 [==============================] - 39s 273ms/step - loss: 1.1379 - acc: 0.5826 - val_loss: 0.7285 - val_acc: 0.7371\n",
            "Epoch 6/30\n",
            "142/143 [============================>.] - ETA: 0s - loss: 1.0995 - acc: 0.5841\n",
            "Epoch 6: val_loss improved from 0.72845 to 0.69829, saving model to garbage-classifiction-checkpoint.ckpt\n",
            "143/143 [==============================] - 39s 272ms/step - loss: 1.0982 - acc: 0.5848 - val_loss: 0.6983 - val_acc: 0.7371\n",
            "Epoch 7/30\n",
            "143/143 [==============================] - ETA: 0s - loss: 1.0979 - acc: 0.6072\n",
            "Epoch 7: val_loss improved from 0.69829 to 0.68730, saving model to garbage-classifiction-checkpoint.ckpt\n",
            "143/143 [==============================] - 39s 272ms/step - loss: 1.0979 - acc: 0.6072 - val_loss: 0.6873 - val_acc: 0.7570\n",
            "Epoch 8/30\n",
            "143/143 [==============================] - ETA: 0s - loss: 1.0309 - acc: 0.6296\n",
            "Epoch 8: val_loss improved from 0.68730 to 0.67713, saving model to garbage-classifiction-checkpoint.ckpt\n",
            "143/143 [==============================] - 39s 271ms/step - loss: 1.0309 - acc: 0.6296 - val_loss: 0.6771 - val_acc: 0.7490\n",
            "Epoch 9/30\n",
            "143/143 [==============================] - ETA: 0s - loss: 0.9855 - acc: 0.6380\n",
            "Epoch 9: val_loss improved from 0.67713 to 0.67317, saving model to garbage-classifiction-checkpoint.ckpt\n",
            "143/143 [==============================] - 39s 273ms/step - loss: 0.9855 - acc: 0.6380 - val_loss: 0.6732 - val_acc: 0.7450\n",
            "Epoch 10/30\n",
            "143/143 [==============================] - ETA: 0s - loss: 0.9665 - acc: 0.6503\n",
            "Epoch 10: val_loss improved from 0.67317 to 0.61419, saving model to garbage-classifiction-checkpoint.ckpt\n",
            "143/143 [==============================] - 41s 289ms/step - loss: 0.9665 - acc: 0.6503 - val_loss: 0.6142 - val_acc: 0.7530\n",
            "Epoch 11/30\n",
            "143/143 [==============================] - ETA: 0s - loss: 0.9531 - acc: 0.6520\n",
            "Epoch 11: val_loss did not improve from 0.61419\n",
            "143/143 [==============================] - 39s 273ms/step - loss: 0.9531 - acc: 0.6520 - val_loss: 0.6309 - val_acc: 0.7450\n",
            "Epoch 12/30\n",
            "143/143 [==============================] - ETA: 0s - loss: 0.9107 - acc: 0.6652\n",
            "Epoch 12: val_loss improved from 0.61419 to 0.61211, saving model to garbage-classifiction-checkpoint.ckpt\n",
            "143/143 [==============================] - 40s 277ms/step - loss: 0.9107 - acc: 0.6652 - val_loss: 0.6121 - val_acc: 0.7570\n",
            "Epoch 13/30\n",
            "143/143 [==============================] - ETA: 0s - loss: 0.8968 - acc: 0.6740\n",
            "Epoch 13: val_loss improved from 0.61211 to 0.59114, saving model to garbage-classifiction-checkpoint.ckpt\n",
            "143/143 [==============================] - 40s 279ms/step - loss: 0.8968 - acc: 0.6740 - val_loss: 0.5911 - val_acc: 0.7649\n",
            "Epoch 14/30\n",
            "143/143 [==============================] - ETA: 0s - loss: 0.8802 - acc: 0.6819\n",
            "Epoch 14: val_loss improved from 0.59114 to 0.57463, saving model to garbage-classifiction-checkpoint.ckpt\n",
            "143/143 [==============================] - 40s 277ms/step - loss: 0.8802 - acc: 0.6819 - val_loss: 0.5746 - val_acc: 0.7689\n",
            "Epoch 15/30\n",
            "143/143 [==============================] - ETA: 0s - loss: 0.8621 - acc: 0.6823\n",
            "Epoch 15: val_loss did not improve from 0.57463\n",
            "143/143 [==============================] - 40s 277ms/step - loss: 0.8621 - acc: 0.6823 - val_loss: 0.5890 - val_acc: 0.7450\n",
            "Epoch 16/30\n",
            "143/143 [==============================] - ETA: 0s - loss: 0.8586 - acc: 0.6757\n",
            "Epoch 16: val_loss improved from 0.57463 to 0.54884, saving model to garbage-classifiction-checkpoint.ckpt\n",
            "143/143 [==============================] - 39s 271ms/step - loss: 0.8586 - acc: 0.6757 - val_loss: 0.5488 - val_acc: 0.7849\n",
            "Epoch 17/30\n",
            "143/143 [==============================] - ETA: 0s - loss: 0.8550 - acc: 0.6854\n",
            "Epoch 17: val_loss did not improve from 0.54884\n",
            "143/143 [==============================] - 38s 268ms/step - loss: 0.8550 - acc: 0.6854 - val_loss: 0.5669 - val_acc: 0.7610\n",
            "Epoch 18/30\n",
            "143/143 [==============================] - ETA: 0s - loss: 0.8303 - acc: 0.6942\n",
            "Epoch 18: val_loss did not improve from 0.54884\n",
            "143/143 [==============================] - 39s 271ms/step - loss: 0.8303 - acc: 0.6942 - val_loss: 0.5789 - val_acc: 0.7809\n",
            "Epoch 19/30\n",
            "143/143 [==============================] - ETA: 0s - loss: 0.8275 - acc: 0.6929\n",
            "Epoch 19: val_loss improved from 0.54884 to 0.54430, saving model to garbage-classifiction-checkpoint.ckpt\n",
            "143/143 [==============================] - 39s 273ms/step - loss: 0.8275 - acc: 0.6929 - val_loss: 0.5443 - val_acc: 0.7689\n",
            "Epoch 20/30\n",
            "143/143 [==============================] - ETA: 0s - loss: 0.8027 - acc: 0.7061\n",
            "Epoch 20: val_loss did not improve from 0.54430\n",
            "143/143 [==============================] - 39s 270ms/step - loss: 0.8027 - acc: 0.7061 - val_loss: 0.5547 - val_acc: 0.7809\n",
            "Epoch 21/30\n",
            "143/143 [==============================] - ETA: 0s - loss: 0.7974 - acc: 0.7228\n",
            "Epoch 21: val_loss improved from 0.54430 to 0.53292, saving model to garbage-classifiction-checkpoint.ckpt\n",
            "143/143 [==============================] - 39s 273ms/step - loss: 0.7974 - acc: 0.7228 - val_loss: 0.5329 - val_acc: 0.7769\n",
            "Epoch 22/30\n",
            "143/143 [==============================] - ETA: 0s - loss: 0.7598 - acc: 0.7293\n",
            "Epoch 22: val_loss did not improve from 0.53292\n",
            "143/143 [==============================] - 39s 269ms/step - loss: 0.7598 - acc: 0.7293 - val_loss: 0.5399 - val_acc: 0.8048\n",
            "Epoch 23/30\n",
            "143/143 [==============================] - ETA: 0s - loss: 0.7547 - acc: 0.7157\n",
            "Epoch 23: val_loss improved from 0.53292 to 0.49420, saving model to garbage-classifiction-checkpoint.ckpt\n",
            "143/143 [==============================] - 39s 270ms/step - loss: 0.7547 - acc: 0.7157 - val_loss: 0.4942 - val_acc: 0.7968\n",
            "Epoch 24/30\n",
            "142/143 [============================>.] - ETA: 0s - loss: 0.7497 - acc: 0.7267\n",
            "Epoch 24: val_loss did not improve from 0.49420\n",
            "143/143 [==============================] - 39s 270ms/step - loss: 0.7491 - acc: 0.7267 - val_loss: 0.5540 - val_acc: 0.7849\n",
            "Epoch 25/30\n",
            "143/143 [==============================] - ETA: 0s - loss: 0.7687 - acc: 0.7254\n",
            "Epoch 25: val_loss did not improve from 0.49420\n",
            "143/143 [==============================] - 38s 269ms/step - loss: 0.7687 - acc: 0.7254 - val_loss: 0.5163 - val_acc: 0.7968\n",
            "Epoch 26/30\n",
            "143/143 [==============================] - ETA: 0s - loss: 0.7316 - acc: 0.7359\n",
            "Epoch 26: val_loss did not improve from 0.49420\n",
            "143/143 [==============================] - 38s 268ms/step - loss: 0.7316 - acc: 0.7359 - val_loss: 0.5209 - val_acc: 0.8048\n",
            "Epoch 27/30\n",
            "143/143 [==============================] - ETA: 0s - loss: 0.7266 - acc: 0.7263\n",
            "Epoch 27: val_loss did not improve from 0.49420\n",
            "143/143 [==============================] - 40s 276ms/step - loss: 0.7266 - acc: 0.7263 - val_loss: 0.5254 - val_acc: 0.7928\n",
            "Epoch 28/30\n",
            "143/143 [==============================] - ETA: 0s - loss: 0.7194 - acc: 0.7368\n",
            "Epoch 28: val_loss improved from 0.49420 to 0.48300, saving model to garbage-classifiction-checkpoint.ckpt\n",
            "143/143 [==============================] - 38s 266ms/step - loss: 0.7194 - acc: 0.7368 - val_loss: 0.4830 - val_acc: 0.8247\n",
            "Epoch 29/30\n",
            "143/143 [==============================] - ETA: 0s - loss: 0.7265 - acc: 0.7342\n",
            "Epoch 29: val_loss improved from 0.48300 to 0.46178, saving model to garbage-classifiction-checkpoint.ckpt\n",
            "143/143 [==============================] - 38s 267ms/step - loss: 0.7265 - acc: 0.7342 - val_loss: 0.4618 - val_acc: 0.8167\n",
            "Epoch 30/30\n",
            "143/143 [==============================] - ETA: 0s - loss: 0.7209 - acc: 0.7412\n",
            "Epoch 30: val_loss did not improve from 0.46178\n",
            "143/143 [==============================] - 38s 266ms/step - loss: 0.7209 - acc: 0.7412 - val_loss: 0.4801 - val_acc: 0.8167\n"
          ]
        }
      ]
    },
    {
      "cell_type": "markdown",
      "source": [
        "### 모델2) "
      ],
      "metadata": {
        "id": "zSwILMK5B2et"
      }
    },
    {
      "cell_type": "code",
      "source": [
        "transfer_model = VGG16(weights='imagenet', include_top = False, input_shape=(224,224,3))\n",
        "transfer_model.trainable = False\n",
        "\n",
        "model_2 = Sequential([\n",
        "  transfer_model,\n",
        "  Flatten(),\n",
        "  Dropout(0.5),\n",
        "  Dense(512, activation='relu'),\n",
        "  Dense(128, activation='relu'),\n",
        "  Dense(6, activation='softmax')\n",
        "])\n",
        "\n",
        "model_2.summary()"
      ],
      "metadata": {
        "colab": {
          "base_uri": "https://localhost:8080/"
        },
        "id": "VrONjo4CB75M",
        "outputId": "5be43cf7-3b05-42b5-d778-2607413b886b"
      },
      "execution_count": 11,
      "outputs": [
        {
          "output_type": "stream",
          "name": "stdout",
          "text": [
            "Model: \"sequential_2\"\n",
            "_________________________________________________________________\n",
            " Layer (type)                Output Shape              Param #   \n",
            "=================================================================\n",
            " vgg16 (Functional)          (None, 7, 7, 512)         14714688  \n",
            "                                                                 \n",
            " flatten (Flatten)           (None, 25088)             0         \n",
            "                                                                 \n",
            " dropout_4 (Dropout)         (None, 25088)             0         \n",
            "                                                                 \n",
            " dense_6 (Dense)             (None, 512)               12845568  \n",
            "                                                                 \n",
            " dense_7 (Dense)             (None, 128)               65664     \n",
            "                                                                 \n",
            " dense_8 (Dense)             (None, 6)                 774       \n",
            "                                                                 \n",
            "=================================================================\n",
            "Total params: 27,626,694\n",
            "Trainable params: 12,912,006\n",
            "Non-trainable params: 14,714,688\n",
            "_________________________________________________________________\n"
          ]
        }
      ]
    },
    {
      "cell_type": "markdown",
      "source": [
        "### 4) **모델2 컴파일(compile)**: 모델을 생성합니다."
      ],
      "metadata": {
        "id": "D90WL--mC8tL"
      }
    },
    {
      "cell_type": "code",
      "source": [
        "model.compile(optimizer=tf.keras.optimizers.Adam(learning_rate=0.0001), loss='categorical_crossentropy', metrics=['acc'])\n",
        "\n",
        "checkpoint_path = \"garbage-classifiction-checkpoint.ckpt\"\n",
        "checkpoint = ModelCheckpoint(filepath=checkpoint_path, \n",
        "                             save_weights_only=True, \n",
        "                             save_best_only=True, \n",
        "                             monitor='val_loss', \n",
        "                             verbose=1)"
      ],
      "metadata": {
        "id": "xVsh03ULC8tU"
      },
      "execution_count": 14,
      "outputs": []
    },
    {
      "cell_type": "markdown",
      "source": [
        "### 5) **모델2 학습 (fit)**: 모델을 학습시킵니다."
      ],
      "metadata": {
        "id": "aVYkRp-QC8tU"
      }
    },
    {
      "cell_type": "code",
      "source": [
        "model_2.fit(train_generator,\n",
        "          validation_data=(validation_generator),\n",
        "          epochs=30,\n",
        "          callbacks=[checkpoint]\n",
        "          )\n",
        "\n",
        "model_2.load_weights(checkpoint_path)\n",
        "model_2.save('garbage-classification-model2.h5')"
      ],
      "metadata": {
        "colab": {
          "base_uri": "https://localhost:8080/"
        },
        "outputId": "7f636624-aa7f-4549-a8ca-13720dcd7296",
        "id": "flNT1rNxC8tV"
      },
      "execution_count": 15,
      "outputs": [
        {
          "output_type": "stream",
          "name": "stdout",
          "text": [
            "Epoch 1/30\n",
            "143/143 [==============================] - ETA: 0s - loss: 1.3443 - acc: 0.4758\n",
            "Epoch 1: val_loss improved from inf to 1.24916, saving model to garbage-classifiction-checkpoint.ckpt\n",
            "143/143 [==============================] - 40s 280ms/step - loss: 1.3443 - acc: 0.4758 - val_loss: 1.2492 - val_acc: 0.5378\n",
            "Epoch 2/30\n",
            "143/143 [==============================] - ETA: 0s - loss: 1.0376 - acc: 0.6098\n",
            "Epoch 2: val_loss improved from 1.24916 to 0.81966, saving model to garbage-classifiction-checkpoint.ckpt\n",
            "143/143 [==============================] - 39s 275ms/step - loss: 1.0376 - acc: 0.6098 - val_loss: 0.8197 - val_acc: 0.6813\n",
            "Epoch 3/30\n",
            "143/143 [==============================] - ETA: 0s - loss: 0.8970 - acc: 0.6446\n",
            "Epoch 3: val_loss improved from 0.81966 to 0.68535, saving model to garbage-classifiction-checkpoint.ckpt\n",
            "143/143 [==============================] - 39s 273ms/step - loss: 0.8970 - acc: 0.6446 - val_loss: 0.6853 - val_acc: 0.7371\n",
            "Epoch 4/30\n",
            "143/143 [==============================] - ETA: 0s - loss: 0.8780 - acc: 0.6612\n",
            "Epoch 4: val_loss improved from 0.68535 to 0.64928, saving model to garbage-classifiction-checkpoint.ckpt\n",
            "143/143 [==============================] - 39s 273ms/step - loss: 0.8780 - acc: 0.6612 - val_loss: 0.6493 - val_acc: 0.7131\n",
            "Epoch 5/30\n",
            "143/143 [==============================] - ETA: 0s - loss: 0.8090 - acc: 0.6863\n",
            "Epoch 5: val_loss did not improve from 0.64928\n",
            "143/143 [==============================] - 40s 279ms/step - loss: 0.8090 - acc: 0.6863 - val_loss: 0.7805 - val_acc: 0.6972\n",
            "Epoch 6/30\n",
            "143/143 [==============================] - ETA: 0s - loss: 0.7849 - acc: 0.6960\n",
            "Epoch 6: val_loss did not improve from 0.64928\n",
            "143/143 [==============================] - 39s 273ms/step - loss: 0.7849 - acc: 0.6960 - val_loss: 0.7277 - val_acc: 0.7490\n",
            "Epoch 7/30\n",
            "143/143 [==============================] - ETA: 0s - loss: 0.7648 - acc: 0.7113\n",
            "Epoch 7: val_loss did not improve from 0.64928\n",
            "143/143 [==============================] - 39s 270ms/step - loss: 0.7648 - acc: 0.7113 - val_loss: 0.6641 - val_acc: 0.7211\n",
            "Epoch 8/30\n",
            "143/143 [==============================] - ETA: 0s - loss: 0.7807 - acc: 0.7096\n",
            "Epoch 8: val_loss did not improve from 0.64928\n",
            "143/143 [==============================] - 38s 268ms/step - loss: 0.7807 - acc: 0.7096 - val_loss: 0.6497 - val_acc: 0.7450\n",
            "Epoch 9/30\n",
            "143/143 [==============================] - ETA: 0s - loss: 0.6844 - acc: 0.7417\n",
            "Epoch 9: val_loss improved from 0.64928 to 0.62671, saving model to garbage-classifiction-checkpoint.ckpt\n",
            "143/143 [==============================] - 40s 278ms/step - loss: 0.6844 - acc: 0.7417 - val_loss: 0.6267 - val_acc: 0.7689\n",
            "Epoch 10/30\n",
            "143/143 [==============================] - ETA: 0s - loss: 0.6858 - acc: 0.7469\n",
            "Epoch 10: val_loss did not improve from 0.62671\n",
            "143/143 [==============================] - 39s 274ms/step - loss: 0.6858 - acc: 0.7469 - val_loss: 0.7058 - val_acc: 0.7052\n",
            "Epoch 11/30\n",
            "143/143 [==============================] - ETA: 0s - loss: 0.6876 - acc: 0.7438\n",
            "Epoch 11: val_loss improved from 0.62671 to 0.55960, saving model to garbage-classifiction-checkpoint.ckpt\n",
            "143/143 [==============================] - 41s 285ms/step - loss: 0.6876 - acc: 0.7438 - val_loss: 0.5596 - val_acc: 0.7610\n",
            "Epoch 12/30\n",
            "143/143 [==============================] - ETA: 0s - loss: 0.6698 - acc: 0.7500\n",
            "Epoch 12: val_loss did not improve from 0.55960\n",
            "143/143 [==============================] - 40s 277ms/step - loss: 0.6698 - acc: 0.7500 - val_loss: 0.6487 - val_acc: 0.7331\n",
            "Epoch 13/30\n",
            "143/143 [==============================] - ETA: 0s - loss: 0.6586 - acc: 0.7535\n",
            "Epoch 13: val_loss did not improve from 0.55960\n",
            "143/143 [==============================] - 39s 275ms/step - loss: 0.6586 - acc: 0.7535 - val_loss: 0.5638 - val_acc: 0.7729\n",
            "Epoch 14/30\n",
            "143/143 [==============================] - ETA: 0s - loss: 0.6374 - acc: 0.7548\n",
            "Epoch 14: val_loss did not improve from 0.55960\n",
            "143/143 [==============================] - 38s 267ms/step - loss: 0.6374 - acc: 0.7548 - val_loss: 0.6357 - val_acc: 0.7291\n",
            "Epoch 15/30\n",
            "143/143 [==============================] - ETA: 0s - loss: 0.6450 - acc: 0.7531\n",
            "Epoch 15: val_loss did not improve from 0.55960\n",
            "143/143 [==============================] - 38s 267ms/step - loss: 0.6450 - acc: 0.7531 - val_loss: 0.6145 - val_acc: 0.7530\n",
            "Epoch 16/30\n",
            "143/143 [==============================] - ETA: 0s - loss: 0.6258 - acc: 0.7649\n",
            "Epoch 16: val_loss did not improve from 0.55960\n",
            "143/143 [==============================] - 38s 264ms/step - loss: 0.6258 - acc: 0.7649 - val_loss: 0.5602 - val_acc: 0.7809\n",
            "Epoch 17/30\n",
            "143/143 [==============================] - ETA: 0s - loss: 0.6215 - acc: 0.7689\n",
            "Epoch 17: val_loss improved from 0.55960 to 0.48938, saving model to garbage-classifiction-checkpoint.ckpt\n",
            "143/143 [==============================] - 39s 273ms/step - loss: 0.6215 - acc: 0.7689 - val_loss: 0.4894 - val_acc: 0.8048\n",
            "Epoch 18/30\n",
            "143/143 [==============================] - ETA: 0s - loss: 0.5872 - acc: 0.7746\n",
            "Epoch 18: val_loss did not improve from 0.48938\n",
            "143/143 [==============================] - 39s 273ms/step - loss: 0.5872 - acc: 0.7746 - val_loss: 0.5663 - val_acc: 0.7888\n",
            "Epoch 19/30\n",
            "143/143 [==============================] - ETA: 0s - loss: 0.6049 - acc: 0.7737\n",
            "Epoch 19: val_loss did not improve from 0.48938\n",
            "143/143 [==============================] - 38s 265ms/step - loss: 0.6049 - acc: 0.7737 - val_loss: 0.6353 - val_acc: 0.7331\n",
            "Epoch 20/30\n",
            "143/143 [==============================] - ETA: 0s - loss: 0.5874 - acc: 0.7838\n",
            "Epoch 20: val_loss did not improve from 0.48938\n",
            "143/143 [==============================] - 38s 266ms/step - loss: 0.5874 - acc: 0.7838 - val_loss: 0.5648 - val_acc: 0.7570\n",
            "Epoch 21/30\n",
            "143/143 [==============================] - ETA: 0s - loss: 0.5552 - acc: 0.8018\n",
            "Epoch 21: val_loss did not improve from 0.48938\n",
            "143/143 [==============================] - 39s 270ms/step - loss: 0.5552 - acc: 0.8018 - val_loss: 0.5146 - val_acc: 0.7888\n",
            "Epoch 22/30\n",
            "143/143 [==============================] - ETA: 0s - loss: 0.5718 - acc: 0.7878\n",
            "Epoch 22: val_loss did not improve from 0.48938\n",
            "143/143 [==============================] - 39s 271ms/step - loss: 0.5718 - acc: 0.7878 - val_loss: 0.5474 - val_acc: 0.8008\n",
            "Epoch 23/30\n",
            "143/143 [==============================] - ETA: 0s - loss: 0.5499 - acc: 0.7917\n",
            "Epoch 23: val_loss did not improve from 0.48938\n",
            "143/143 [==============================] - 40s 276ms/step - loss: 0.5499 - acc: 0.7917 - val_loss: 0.5644 - val_acc: 0.7888\n",
            "Epoch 24/30\n",
            "143/143 [==============================] - ETA: 0s - loss: 0.5412 - acc: 0.7887\n",
            "Epoch 24: val_loss did not improve from 0.48938\n",
            "143/143 [==============================] - 41s 285ms/step - loss: 0.5412 - acc: 0.7887 - val_loss: 0.5928 - val_acc: 0.7888\n",
            "Epoch 25/30\n",
            "143/143 [==============================] - ETA: 0s - loss: 0.5518 - acc: 0.7979\n",
            "Epoch 25: val_loss did not improve from 0.48938\n",
            "143/143 [==============================] - 40s 277ms/step - loss: 0.5518 - acc: 0.7979 - val_loss: 0.5758 - val_acc: 0.7530\n",
            "Epoch 26/30\n",
            "143/143 [==============================] - ETA: 0s - loss: 0.5346 - acc: 0.8067\n",
            "Epoch 26: val_loss did not improve from 0.48938\n",
            "143/143 [==============================] - 40s 276ms/step - loss: 0.5346 - acc: 0.8067 - val_loss: 0.5481 - val_acc: 0.7809\n",
            "Epoch 27/30\n",
            "143/143 [==============================] - ETA: 0s - loss: 0.5060 - acc: 0.8084\n",
            "Epoch 27: val_loss improved from 0.48938 to 0.48873, saving model to garbage-classifiction-checkpoint.ckpt\n",
            "143/143 [==============================] - 40s 276ms/step - loss: 0.5060 - acc: 0.8084 - val_loss: 0.4887 - val_acc: 0.8008\n",
            "Epoch 28/30\n",
            "143/143 [==============================] - ETA: 0s - loss: 0.5084 - acc: 0.8071\n",
            "Epoch 28: val_loss did not improve from 0.48873\n",
            "143/143 [==============================] - 39s 273ms/step - loss: 0.5084 - acc: 0.8071 - val_loss: 0.5937 - val_acc: 0.7888\n",
            "Epoch 29/30\n",
            "143/143 [==============================] - ETA: 0s - loss: 0.5011 - acc: 0.8133\n",
            "Epoch 29: val_loss did not improve from 0.48873\n",
            "143/143 [==============================] - 39s 275ms/step - loss: 0.5011 - acc: 0.8133 - val_loss: 0.5031 - val_acc: 0.8127\n",
            "Epoch 30/30\n",
            "143/143 [==============================] - ETA: 0s - loss: 0.4851 - acc: 0.8185\n",
            "Epoch 30: val_loss did not improve from 0.48873\n",
            "143/143 [==============================] - 41s 284ms/step - loss: 0.4851 - acc: 0.8185 - val_loss: 0.5419 - val_acc: 0.8048\n"
          ]
        }
      ]
    }
  ],
  "metadata": {
    "colab": {
      "collapsed_sections": [],
      "name": "VGG 16을 활용한 trash 분류",
      "provenance": []
    },
    "kernelspec": {
      "display_name": "Python 3",
      "name": "python3"
    },
    "accelerator": "GPU"
  },
  "nbformat": 4,
  "nbformat_minor": 0
}